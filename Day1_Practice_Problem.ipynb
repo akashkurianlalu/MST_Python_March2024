{
  "nbformat": 4,
  "nbformat_minor": 0,
  "metadata": {
    "colab": {
      "provenance": []
    },
    "kernelspec": {
      "name": "python3",
      "display_name": "Python 3"
    },
    "language_info": {
      "name": "python"
    }
  },
  "cells": [
    {
      "cell_type": "markdown",
      "source": [
        "1. Given the string \"Hello, World!\", extract and print the\n",
        "substring \"Hello\".\n"
      ],
      "metadata": {
        "id": "TsjekUd2WL5U"
      }
    },
    {
      "cell_type": "code",
      "execution_count": 1,
      "metadata": {
        "colab": {
          "base_uri": "https://localhost:8080/"
        },
        "id": "nNLX2q1HSfQc",
        "outputId": "68a94d21-b987-4bb8-f1e6-6e275408dbf9"
      },
      "outputs": [
        {
          "output_type": "stream",
          "name": "stdout",
          "text": [
            "Hello\n"
          ]
        }
      ],
      "source": [
        "s='Hello, World!'\n",
        "print(s[0:5])"
      ]
    },
    {
      "cell_type": "markdown",
      "source": [
        "2. Given the string \"Python is fun\", extract and print the\n",
        "substring \"is\".\n"
      ],
      "metadata": {
        "id": "qcchvJN2WRPc"
      }
    },
    {
      "cell_type": "code",
      "source": [
        "s='Python is fun'\n",
        "print(s[7:9])"
      ],
      "metadata": {
        "colab": {
          "base_uri": "https://localhost:8080/"
        },
        "id": "ErAmUSJgTQOc",
        "outputId": "3931af77-e7bc-4ee4-f55e-177f296a91c3"
      },
      "execution_count": 2,
      "outputs": [
        {
          "output_type": "stream",
          "name": "stdout",
          "text": [
            "is\n"
          ]
        }
      ]
    },
    {
      "cell_type": "markdown",
      "source": [
        "3. Given the string \"Programming\", extract and print the\n",
        "substring \"gram\" using slicing indices.\n"
      ],
      "metadata": {
        "id": "JzJj5xdKWTv0"
      }
    },
    {
      "cell_type": "code",
      "source": [
        "s='Programming'\n",
        "print(s[3:7])"
      ],
      "metadata": {
        "colab": {
          "base_uri": "https://localhost:8080/"
        },
        "id": "_EfY2a2mTmJi",
        "outputId": "b6b39204-ed96-44a1-80b0-393c1a6c027f"
      },
      "execution_count": 3,
      "outputs": [
        {
          "output_type": "stream",
          "name": "stdout",
          "text": [
            "gram\n"
          ]
        }
      ]
    },
    {
      "cell_type": "markdown",
      "source": [
        "4. Given the string \"abcdefgh\", use slicing to print only the\n",
        "characters at even indices.\n"
      ],
      "metadata": {
        "id": "CoooQGUrWWX7"
      }
    },
    {
      "cell_type": "code",
      "source": [
        "s='abcdefgh'\n",
        "print(s[::2])"
      ],
      "metadata": {
        "colab": {
          "base_uri": "https://localhost:8080/"
        },
        "id": "a8m1WmxOT6tZ",
        "outputId": "98517277-36fe-43d7-bcbb-2cde722ea9ed"
      },
      "execution_count": 4,
      "outputs": [
        {
          "output_type": "stream",
          "name": "stdout",
          "text": [
            "aceg\n"
          ]
        }
      ]
    },
    {
      "cell_type": "markdown",
      "source": [
        "5. Given the string \"abcdefg\", use negative indices to extract\n",
        "and print the substring \"efg\".\n"
      ],
      "metadata": {
        "id": "OirsSdOEWYhj"
      }
    },
    {
      "cell_type": "code",
      "source": [
        "s='abcdefg'\n",
        "print(s[-3:])"
      ],
      "metadata": {
        "colab": {
          "base_uri": "https://localhost:8080/"
        },
        "id": "rVq7BhpXUL5M",
        "outputId": "f89894fb-c24c-453d-ec89-277df34d7358"
      },
      "execution_count": 5,
      "outputs": [
        {
          "output_type": "stream",
          "name": "stdout",
          "text": [
            "efg\n"
          ]
        }
      ]
    },
    {
      "cell_type": "markdown",
      "source": [
        "6. Given the string \"Data Science\", use negative indices to\n",
        "extract and print the last three characters.\n"
      ],
      "metadata": {
        "id": "hobYWUT-WaoB"
      }
    },
    {
      "cell_type": "code",
      "source": [
        "s='Data Science'\n",
        "print(s[-3:])"
      ],
      "metadata": {
        "colab": {
          "base_uri": "https://localhost:8080/"
        },
        "id": "0fp-lB7gUsCC",
        "outputId": "30fe1c74-8c3f-44d7-8544-11b7861fc421"
      },
      "execution_count": 6,
      "outputs": [
        {
          "output_type": "stream",
          "name": "stdout",
          "text": [
            "nce\n"
          ]
        }
      ]
    },
    {
      "cell_type": "markdown",
      "source": [
        "7. Given the string \"abcdefghij\", use slicing with a step to\n",
        "print every second character.\n"
      ],
      "metadata": {
        "id": "_CU5v_R3WcpS"
      }
    },
    {
      "cell_type": "code",
      "source": [
        "s='abcdefghij'\n",
        "print(s[1::2])"
      ],
      "metadata": {
        "colab": {
          "base_uri": "https://localhost:8080/"
        },
        "id": "t3FJSmvyVAUu",
        "outputId": "6e7bd89a-4235-4cf7-c74b-b612669fe67b"
      },
      "execution_count": 8,
      "outputs": [
        {
          "output_type": "stream",
          "name": "stdout",
          "text": [
            "bdfhj\n"
          ]
        }
      ]
    },
    {
      "cell_type": "markdown",
      "source": [
        "8. Given the string \"1234567890\", use slicing with a step to\n",
        "print the odd digits.\n"
      ],
      "metadata": {
        "id": "zU0SmCyxWe0L"
      }
    },
    {
      "cell_type": "code",
      "source": [
        "s='1234567890'\n",
        "print(s[::2])"
      ],
      "metadata": {
        "colab": {
          "base_uri": "https://localhost:8080/"
        },
        "id": "ahRfwDjzVP1K",
        "outputId": "7df16b92-bfe8-4f1a-e491-e61cc7ecaa9e"
      },
      "execution_count": 9,
      "outputs": [
        {
          "output_type": "stream",
          "name": "stdout",
          "text": [
            "13579\n"
          ]
        }
      ]
    },
    {
      "cell_type": "markdown",
      "source": [
        "9. Given the string \"Hello\", use slicing to print the string in\n",
        "reverse order.\n"
      ],
      "metadata": {
        "id": "rA5CR38_Wg1z"
      }
    },
    {
      "cell_type": "code",
      "source": [
        "s='Hello'\n",
        "print(s[::-1])"
      ],
      "metadata": {
        "colab": {
          "base_uri": "https://localhost:8080/"
        },
        "id": "lnCH95qfVr2X",
        "outputId": "2cee2c52-8537-4eaf-def2-6de9b5d02eb4"
      },
      "execution_count": 10,
      "outputs": [
        {
          "output_type": "stream",
          "name": "stdout",
          "text": [
            "olleH\n"
          ]
        }
      ]
    },
    {
      "cell_type": "markdown",
      "source": [
        "10.\n",
        "Given the string \"abcdefghijk\", extract and print the\n",
        "substring \"acegik\" using slicing."
      ],
      "metadata": {
        "id": "ljB9NdyOWin6"
      }
    },
    {
      "cell_type": "code",
      "source": [
        "s='abcdefghijk'\n",
        "print(s[::2])"
      ],
      "metadata": {
        "colab": {
          "base_uri": "https://localhost:8080/"
        },
        "id": "9afKxgowV2of",
        "outputId": "76e88173-4318-4596-bc3a-9569b1ee502a"
      },
      "execution_count": 11,
      "outputs": [
        {
          "output_type": "stream",
          "name": "stdout",
          "text": [
            "acegik\n"
          ]
        }
      ]
    },
    {
      "cell_type": "code",
      "source": [],
      "metadata": {
        "id": "wbbprjspWEka"
      },
      "execution_count": null,
      "outputs": []
    }
  ]
}