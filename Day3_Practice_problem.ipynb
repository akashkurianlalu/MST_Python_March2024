{
  "nbformat": 4,
  "nbformat_minor": 0,
  "metadata": {
    "colab": {
      "provenance": [],
      "authorship_tag": "ABX9TyMlNY6cZIL8eytoQ2Adl5nm",
      "include_colab_link": true
    },
    "kernelspec": {
      "name": "python3",
      "display_name": "Python 3"
    },
    "language_info": {
      "name": "python"
    }
  },
  "cells": [
    {
      "cell_type": "markdown",
      "metadata": {
        "id": "view-in-github",
        "colab_type": "text"
      },
      "source": [
        "<a href=\"https://colab.research.google.com/github/akashkurianlalu/MST_Python_March2024/blob/main/Day3_Practice_problem.ipynb\" target=\"_parent\"><img src=\"https://colab.research.google.com/assets/colab-badge.svg\" alt=\"Open In Colab\"/></a>"
      ]
    },
    {
      "cell_type": "markdown",
      "source": [
        "1. Given the participants' score sheet for your University Sports Day, you are required to\n",
        "find the runner-up score. You are given scores. Store them in a list and find the score of\n",
        "the runner-up. (Create an array of scores and print the runner up score)"
      ],
      "metadata": {
        "id": "3vq3ATsAusPI"
      }
    },
    {
      "cell_type": "code",
      "source": [
        "scoresheet=list(map(int,input('enter participants score for the university sports day :').split(',')))\n",
        "first=max(scoresheet)\n",
        "scoresheet_copy=scoresheet\n",
        "while first in scoresheet_copy:\n",
        "  scoresheet_copy.remove(first)\n",
        "runnerup=max(scoresheet_copy)\n",
        "print(f'Runner up score is {runnerup}')"
      ],
      "metadata": {
        "colab": {
          "base_uri": "https://localhost:8080/"
        },
        "id": "tJUqEYf-ux1m",
        "outputId": "3b5d456e-ef0c-4962-cb87-fe65c01f5242"
      },
      "execution_count": 28,
      "outputs": [
        {
          "output_type": "stream",
          "name": "stdout",
          "text": [
            "enter participants score for the university sports day :50,45,45,56,67,45\n",
            "Runner up score is 56\n"
          ]
        }
      ]
    },
    {
      "cell_type": "markdown",
      "source": [
        "2. A dictionary is given D={‘John’ [25,32,43],’Peter’:[87,55,96],’Ram’:[58,55,43],’Meena’:[63,79,85]}\n",
        "Get a name from user if the name in the dictionary change the values corresponding to\n",
        "that user to [88,77,99] and print the dictionary. Else print ‘Name not found’.\n"
      ],
      "metadata": {
        "id": "ojfBRFkruie-"
      }
    },
    {
      "cell_type": "code",
      "execution_count": 9,
      "metadata": {
        "colab": {
          "base_uri": "https://localhost:8080/"
        },
        "id": "wwo7y5hmlHJA",
        "outputId": "c32142d8-65cf-4ed6-9d19-a260efc0536d"
      },
      "outputs": [
        {
          "output_type": "stream",
          "name": "stdout",
          "text": [
            "Enter a name from the list[John,Peter,Ram,Meena] ram\n",
            "{'John': [25, 32, 43], 'Peter': [87, 55, 96], 'Ram': [88, 77, 99], 'Meena': [63, 79, 85]}\n"
          ]
        }
      ],
      "source": [
        "D={'John': [25,32,43],'Peter':[87,55,96],'Ram':[58,55,43],'Meena':[63,79,85]}\n",
        "name=input('Enter a name from the list[John,Peter,Ram,Meena] ').capitalize()\n",
        "if(name in D):\n",
        "  D[name]=[88,77,99]\n",
        "  print(D)\n",
        "else:\n",
        "  print('Name not found')"
      ]
    },
    {
      "cell_type": "markdown",
      "source": [
        "3. Ticket Price Calculator:\n",
        "I. Ask the user to enter their age.\n",
        "II. Use control statements (if-elif-else) to calculate the ticket price based on the\n",
        "following conditions:\n",
        "a. If the age is below 5, the ticket price is free.\n",
        "b. If the age is between 5 and 12 (inclusive), the ticket price is Rs.10.\n",
        "c. If the age is above 12, the ticket price is Rs.50.\n",
        "d. If the age is above 60, the ticket price is free.\n",
        "e. If the gender is female, the ticket price is 50% of the applicable rates.\n",
        "III. Display the ticket price to the user"
      ],
      "metadata": {
        "id": "IZmIhdllpkCi"
      }
    },
    {
      "cell_type": "code",
      "source": [
        "gender=input('enter your gender [male or female]:').lower()\n",
        "age=int(input('enter your age:'))\n",
        "if(gender=='male'):\n",
        "  if(age<5 or age>60):\n",
        "    ticketprice=0\n",
        "    print('Ticket Price =',ticketprice)\n",
        "  elif(age>=5 and age<=12):\n",
        "    ticketprice=10\n",
        "    print('Ticket Price =',ticketprice)\n",
        "  else:\n",
        "    ticketprice=50\n",
        "    print('Ticket Price =',ticketprice)\n",
        "elif(gender=='female'):\n",
        "  if(age<5 or age>60):\n",
        "    ticketprice=0\n",
        "    print('Ticket Price =',ticketprice)\n",
        "  elif(age>=5 and age<=12):\n",
        "    ticketprice=10*0.5\n",
        "    print('Ticket Price =',ticketprice)\n",
        "  else:\n",
        "    ticketprice=50*0.5\n",
        "    print('Ticket Price =',ticketprice)\n",
        "else:\n",
        "  print('invalid input for gender')\n"
      ],
      "metadata": {
        "colab": {
          "base_uri": "https://localhost:8080/"
        },
        "id": "i_ylyDnPlk0v",
        "outputId": "7edfb061-1cfc-44df-dd8e-fae9f45bdc6c"
      },
      "execution_count": 29,
      "outputs": [
        {
          "output_type": "stream",
          "name": "stdout",
          "text": [
            "enter your gender [male or female]:male\n",
            "enter your age:67\n",
            "Ticket Price = 0\n"
          ]
        }
      ]
    },
    {
      "cell_type": "code",
      "source": [],
      "metadata": {
        "id": "gU2v8dIsuPVu"
      },
      "execution_count": 15,
      "outputs": []
    }
  ]
}