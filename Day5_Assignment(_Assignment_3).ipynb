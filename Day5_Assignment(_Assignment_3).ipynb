{
  "nbformat": 4,
  "nbformat_minor": 0,
  "metadata": {
    "colab": {
      "provenance": [],
      "authorship_tag": "ABX9TyPd7b0WETrw1lA7gBKwYTnJ",
      "include_colab_link": true
    },
    "kernelspec": {
      "name": "python3",
      "display_name": "Python 3"
    },
    "language_info": {
      "name": "python"
    }
  },
  "cells": [
    {
      "cell_type": "markdown",
      "metadata": {
        "id": "view-in-github",
        "colab_type": "text"
      },
      "source": [
        "<a href=\"https://colab.research.google.com/github/akashkurianlalu/MST_Python_March2024/blob/main/Day5_Assignment(_Assignment_3).ipynb\" target=\"_parent\"><img src=\"https://colab.research.google.com/assets/colab-badge.svg\" alt=\"Open In Colab\"/></a>"
      ]
    },
    {
      "cell_type": "markdown",
      "source": [
        "Answer 1"
      ],
      "metadata": {
        "id": "b9ZyW8iBmaFa"
      }
    },
    {
      "cell_type": "code",
      "execution_count": null,
      "metadata": {
        "colab": {
          "base_uri": "https://localhost:8080/"
        },
        "id": "hy-oISKlXkWE",
        "outputId": "f3794403-6e46-4bd3-80f3-d61b5047555e"
      },
      "outputs": [
        {
          "output_type": "stream",
          "name": "stdout",
          "text": [
            "enter first number:6\n",
            "enter second number:67\n",
            "enter third number:3\n",
            "middle term among 6,67 and 3 is : 6\n"
          ]
        }
      ],
      "source": [
        "n1=int(input('enter first number:'))\n",
        "n2=int(input('enter second number:'))\n",
        "n3=int(input('enter third number:'))\n",
        "def middle_of_three(a,b,c):\n",
        "  numbers=[a,b,c]\n",
        "  numbers.sort()\n",
        "  return numbers[1]\n",
        "print(f'middle term among {n1}, {n2} and {n3} is : {middle_of_three(n1,n2,n3)}')\n"
      ]
    },
    {
      "cell_type": "markdown",
      "source": [
        "Answer 2"
      ],
      "metadata": {
        "id": "onhj2Q5Amd0T"
      }
    },
    {
      "cell_type": "code",
      "source": [
        "def add(x, y):\n",
        "    return x + y\n",
        "\n",
        "def subtract(x, y):\n",
        "    return x - y\n",
        "\n",
        "def multiply(x, y):\n",
        "    return x * y\n",
        "\n",
        "def divide(x, y):\n",
        "    if y == 0:\n",
        "        return \"Error: Cannot divide by zero\"\n",
        "    else:\n",
        "        return x / y\n",
        "\n",
        "def calculator():\n",
        "    print(\"Welcome to the Python Calculator!\")\n",
        "    while True:\n",
        "        print(\"\\nSelect operation:\")\n",
        "        print(\"1. Addition\")\n",
        "        print(\"2. Subtraction\")\n",
        "        print(\"3. Multiplication\")\n",
        "        print(\"4. Division\")\n",
        "        print(\"5. Exit\")\n",
        "\n",
        "        choice = input(\"Enter choice (1/2/3/4/5): \")\n",
        "\n",
        "        if choice in ('1', '2', '3', '4'):\n",
        "            num1 = float(input(\"Enter first number: \"))\n",
        "            num2 = float(input(\"Enter second number: \"))\n",
        "\n",
        "            if choice == '1':\n",
        "                print(\"Result:\", add(num1, num2))\n",
        "            elif choice == '2':\n",
        "                print(\"Result:\", subtract(num1, num2))\n",
        "            elif choice == '3':\n",
        "                print(\"Result:\", multiply(num1, num2))\n",
        "            elif choice == '4':\n",
        "                print(\"Result:\", divide(num1, num2))\n",
        "        elif choice == '5':\n",
        "            print(\"Exiting...\")\n",
        "            break\n",
        "        else:\n",
        "            print(\"Invalid input. Please enter a valid option.\")\n",
        "\n",
        "calculator()\n"
      ],
      "metadata": {
        "id": "4EcSo5Z5abY5",
        "colab": {
          "base_uri": "https://localhost:8080/"
        },
        "outputId": "bf0537be-030e-4add-f392-4f7689cf714b"
      },
      "execution_count": null,
      "outputs": [
        {
          "output_type": "stream",
          "name": "stdout",
          "text": [
            "Welcome to the Python Calculator!\n",
            "\n",
            "Select operation:\n",
            "1. Addition\n",
            "2. Subtraction\n",
            "3. Multiplication\n",
            "4. Division\n",
            "5. Exit\n",
            "Enter choice (1/2/3/4/5): 1\n",
            "Enter first number: 6\n",
            "Enter second number: 7\n",
            "Result: 13.0\n",
            "\n",
            "Select operation:\n",
            "1. Addition\n",
            "2. Subtraction\n",
            "3. Multiplication\n",
            "4. Division\n",
            "5. Exit\n",
            "Enter choice (1/2/3/4/5): 5\n",
            "Exiting...\n"
          ]
        }
      ]
    },
    {
      "cell_type": "markdown",
      "source": [
        "Answer 3"
      ],
      "metadata": {
        "id": "jFoNSWHRmgqD"
      }
    },
    {
      "cell_type": "code",
      "source": [
        "def hypotenuse(shorter_side1, shorter_side2):\n",
        "    hypotenuse_length = (shorter_side1 ** 2 + shorter_side2 ** 2) ** 0.5\n",
        "    return hypotenuse_length\n",
        "\n",
        "side1 = 3\n",
        "side2 = 4\n",
        "print(\"Length of hypotenuse:\", hypotenuse(side1, side2))\n"
      ],
      "metadata": {
        "colab": {
          "base_uri": "https://localhost:8080/"
        },
        "id": "KxyDB5ZHhIM_",
        "outputId": "32befcb8-9c9c-4a8b-fce9-97d6a4d81cf6"
      },
      "execution_count": null,
      "outputs": [
        {
          "output_type": "stream",
          "name": "stdout",
          "text": [
            "Length of hypotenuse: 5.0\n"
          ]
        }
      ]
    },
    {
      "cell_type": "markdown",
      "source": [
        "Answer 4"
      ],
      "metadata": {
        "id": "e3IzSGsPmjGs"
      }
    },
    {
      "cell_type": "code",
      "source": [
        "def Rectangle(length, width):\n",
        "    def perimeter():\n",
        "        return 2 * (length + width)\n",
        "\n",
        "    def area():\n",
        "        return length * width\n",
        "\n",
        "    def display():\n",
        "        print(\"Length:\", length)\n",
        "        print(\"Width:\", width)\n",
        "        print(\"Perimeter:\", perimeter())\n",
        "        print(\"Area:\", area())\n",
        "\n",
        "    return display\n",
        "\n",
        "l=int(input('enter length of rectangle:'))\n",
        "w=int(input('enter width of rectangle:'))\n",
        "rectangle_display = Rectangle(l,w)\n",
        "rectangle_display()\n"
      ],
      "metadata": {
        "colab": {
          "base_uri": "https://localhost:8080/"
        },
        "id": "5uKANwOUiHF8",
        "outputId": "3a7dd3e6-6020-4e86-e77b-719d68dd6c2e"
      },
      "execution_count": null,
      "outputs": [
        {
          "output_type": "stream",
          "name": "stdout",
          "text": [
            "enter length of rectangle:7\n",
            "enter width of rectangle:5\n",
            "Length: 7\n",
            "Width: 5\n",
            "Perimeter: 24\n",
            "Area: 35\n"
          ]
        }
      ]
    },
    {
      "cell_type": "markdown",
      "source": [
        "Answer 5\n"
      ],
      "metadata": {
        "id": "p_UXYkrPmlFU"
      }
    },
    {
      "cell_type": "code",
      "source": [
        "def create_account(accountNumber, name, balance):\n",
        "    return {\n",
        "        \"accountNumber\": accountNumber,\n",
        "        \"name\": name,\n",
        "        \"balance\": balance\n",
        "    }\n",
        "\n",
        "def deposit(account, amount):\n",
        "    if amount > 0:\n",
        "        account[\"balance\"] += amount\n",
        "        print(f\"Deposited {amount} into account {account['accountNumber']}.\")\n",
        "    else:\n",
        "        print(\"Invalid deposit amount.\")\n",
        "\n",
        "def withdrawal(account, amount):\n",
        "    if 0 < amount <= account[\"balance\"]:\n",
        "        account[\"balance\"] -= amount\n",
        "        print(f\"Withdrew {amount} from account {account['accountNumber']}.\")\n",
        "    else:\n",
        "        print(\"Insufficient funds or invalid withdrawal amount.\")\n",
        "\n",
        "def bankFees(account):\n",
        "    fees = 0.05 * account[\"balance\"]\n",
        "    account[\"balance\"] -= fees\n",
        "    print(f\"Applied bank fees: {fees}\")\n",
        "\n",
        "def display(account):\n",
        "    print(\"Account Number:\", account[\"accountNumber\"])\n",
        "    print(\"Name:\", account[\"name\"])\n",
        "    print(\"Balance:\", account[\"balance\"])\n",
        "\n",
        "\n",
        "# Example usage:\n",
        "account1 = create_account(123456, \"John Doe\", 1000)\n",
        "deposit(account1, 500)\n",
        "withdrawal(account1, 200)\n",
        "bankFees(account1)\n",
        "display(account1)\n"
      ],
      "metadata": {
        "colab": {
          "base_uri": "https://localhost:8080/"
        },
        "id": "Cw7kKUtxk1dg",
        "outputId": "68833de9-916b-4c38-b0d3-b065f46f0027"
      },
      "execution_count": null,
      "outputs": [
        {
          "output_type": "stream",
          "name": "stdout",
          "text": [
            "Deposited 500 into account 123456.\n",
            "Withdrew 200 from account 123456.\n",
            "Applied bank fees: 65.0\n",
            "Account Number: 123456\n",
            "Name: John Doe\n",
            "Balance: 1235.0\n"
          ]
        }
      ]
    }
  ]
}