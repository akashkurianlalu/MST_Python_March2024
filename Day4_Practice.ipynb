{
  "nbformat": 4,
  "nbformat_minor": 0,
  "metadata": {
    "colab": {
      "provenance": [],
      "authorship_tag": "ABX9TyO3YdfnvQStCnBny9CCRRXQ",
      "include_colab_link": true
    },
    "kernelspec": {
      "name": "python3",
      "display_name": "Python 3"
    },
    "language_info": {
      "name": "python"
    }
  },
  "cells": [
    {
      "cell_type": "markdown",
      "metadata": {
        "id": "view-in-github",
        "colab_type": "text"
      },
      "source": [
        "<a href=\"https://colab.research.google.com/github/akashkurianlalu/MST_Python_March2024/blob/main/Day4_Practice.ipynb\" target=\"_parent\"><img src=\"https://colab.research.google.com/assets/colab-badge.svg\" alt=\"Open In Colab\"/></a>"
      ]
    },
    {
      "cell_type": "markdown",
      "source": [
        "Answer 1"
      ],
      "metadata": {
        "id": "1OVxdlF1LnqG"
      }
    },
    {
      "cell_type": "code",
      "execution_count": 1,
      "metadata": {
        "colab": {
          "base_uri": "https://localhost:8080/"
        },
        "id": "9iQB-iXVLX_P",
        "outputId": "684b52cd-1d3f-413e-8095-46f3760fd7b4"
      },
      "outputs": [
        {
          "output_type": "stream",
          "name": "stdout",
          "text": [
            "enter a number between 1 and 10 : 3\n",
            "Too high! Try again\n",
            "enter a number between 1 and 10 : 1\n",
            "Congratulations! You guessed the number correctly!\n"
          ]
        }
      ],
      "source": [
        "import random\n",
        "secretnumber=random.randint(1,10)\n",
        "while True:\n",
        "  guess=int(input('enter a number between 1 and 10 : '))\n",
        "  if(secretnumber==guess):\n",
        "    print('Congratulations! You guessed the number correctly!')\n",
        "    break\n",
        "  elif(secretnumber<guess):\n",
        "    print('Too high! Try again')\n",
        "  else:\n",
        "    print('Too low! Try again')"
      ]
    },
    {
      "cell_type": "markdown",
      "source": [
        "Answer 2"
      ],
      "metadata": {
        "id": "HDMWeQlrLdQ8"
      }
    },
    {
      "cell_type": "code",
      "source": [
        "#finding factorial of a number\n",
        "num=int(input('enter a number to find its factorial: '))\n",
        "fact=1\n",
        "for i in range(1,num+1):\n",
        "  fact=fact*i\n",
        "print(f'Factorial of {num} is {fact}')\n",
        "#problem on profile pcture upload on facebook\n",
        "n=int(input('enter the number of photos: '))\n",
        "l=int(input('enter length of the side of square of photo '))\n",
        "for i in range(n):\n",
        "  w,h=map(int,input('enter width and height of photo separated by comma: ').split(','))\n",
        "  if(w<l or h<l):\n",
        "    print('UPLOAD ANOTHER')\n",
        "  else:\n",
        "    if(w==h):\n",
        "      print('ACCEPTED')\n",
        "    else:\n",
        "      print('CROP IT')"
      ],
      "metadata": {
        "colab": {
          "base_uri": "https://localhost:8080/"
        },
        "id": "m8LUAeN0Lfiu",
        "outputId": "2f00e627-a5ed-46ff-dd11-274272b7c156"
      },
      "execution_count": 2,
      "outputs": [
        {
          "output_type": "stream",
          "name": "stdout",
          "text": [
            "enter a number to find its factorial: 5\n",
            "Factorial of 5 is 120\n",
            "enter the number of photos: 4\n",
            "enter length of the side of square of photo 5\n",
            "enter width and height of photo separated by comma: 4,5\n",
            "UPLOAD ANOTHER\n",
            "enter width and height of photo separated by comma: 5,7\n",
            "CROP IT\n",
            "enter width and height of photo separated by comma: 6,6\n",
            "ACCEPTED\n",
            "enter width and height of photo separated by comma: 5,9\n",
            "CROP IT\n"
          ]
        }
      ]
    }
  ]
}