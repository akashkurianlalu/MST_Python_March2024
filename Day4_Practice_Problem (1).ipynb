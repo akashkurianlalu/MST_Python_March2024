{
  "nbformat": 4,
  "nbformat_minor": 0,
  "metadata": {
    "colab": {
      "provenance": []
    },
    "kernelspec": {
      "name": "python3",
      "display_name": "Python 3"
    },
    "language_info": {
      "name": "python"
    }
  },
  "cells": [
    {
      "cell_type": "markdown",
      "source": [
        "1. Write an interactive Python Program to implement following “Guess Game”\n",
        "i. Think of a number between 1 and 10 and store it in a variable called\n",
        "\"secretNumber\".\n",
        "ii. Ask the user to enter a number between 1 and 10 and store it in a variable called\n",
        "\"guess\".\n",
        "iii. Use control statements (if-else) to check if the guess is correct, higher, or lower\n",
        "than the secret number.\n",
        "iv. Display appropriate messages to the user based on their guess:\n",
        "• If the guess is correct, display \"Congratulations! You guessed the number\n",
        "correctly!\"\n",
        "• If the guess is higher than the secret number, display \"Too high! Try\n",
        "again.\"\n",
        "• If the guess is lower than the secret number, display \"Too low! Try again.\"\n",
        "v. Allow the user to keep guessing until they guess the correct number.\n"
      ],
      "metadata": {
        "id": "2kD1xo-aKI5h"
      }
    },
    {
      "cell_type": "code",
      "execution_count": null,
      "metadata": {
        "colab": {
          "base_uri": "https://localhost:8080/"
        },
        "id": "ezTl4EEkKDI7",
        "outputId": "7c5a6827-3ab2-465f-d910-e4a5467add0e"
      },
      "outputs": [
        {
          "output_type": "stream",
          "name": "stdout",
          "text": [
            "enter a number between 1 and 10 : 8\n",
            "Too high! Try again\n",
            "enter a number between 1 and 10 : 9\n",
            "Too high! Try again\n",
            "enter a number between 1 and 10 : 2\n",
            "Too low! Try again\n",
            "enter a number between 1 and 10 : 7\n",
            "Too high! Try again\n",
            "enter a number between 1 and 10 : 5\n",
            "Too high! Try again\n",
            "enter a number between 1 and 10 : 4\n",
            "Congratulations! You guessed the number correctly!\n"
          ]
        }
      ],
      "source": [
        "import random\n",
        "secretnumber=random.randint(1,10)\n",
        "while True:\n",
        "  guess=int(input('enter a number between 1 and 10 : '))\n",
        "  if(secretnumber==guess):\n",
        "    print('Congratulations! You guessed the number correctly!')\n",
        "    break\n",
        "  elif(secretnumber<guess):\n",
        "    print('Too high! Try again')\n",
        "  else:\n",
        "    print('Too low! Try again')"
      ]
    },
    {
      "cell_type": "markdown",
      "source": [
        "2. Write a program to find and print the Factorial of this number. The Factorial of a positive\n",
        "integer N refers to the product of all number in the range from 1 to N.\n",
        "• Roy wants to change his profile picture on Facebook. Now Facebook has some\n",
        "restriction over the dimension of picture that we can upload.\n",
        "Minimum dimension of the picture can be L x L, where L is the length of the side\n",
        "of square. Now Roy has N photos of various dimensions.\n",
        "Dimension of a photo is denoted as W x H\n",
        "where W - width of the photo and H - Height of the photo\n",
        "• When any photo is uploaded following events may occur:\n",
        "[1] If any of the width or height is less than L, user is prompted to upload another\n",
        "one. Print \"UPLOAD ANOTHER\" in this case.\n",
        "[2] If width and height, both are large enough and\n",
        "(a) if the photo is already square then it is accepted. Print \"ACCEPTED\" in this\n",
        "case.\n",
        "(b) else user is prompted to crop it. Print \"CROP IT\" in this case.\n",
        "Given L, N, W and H as input, write a program to print appropriate text as output."
      ],
      "metadata": {
        "id": "uj3gOezgQhdl"
      }
    },
    {
      "cell_type": "code",
      "source": [
        "#finding factorial of a number\n",
        "num=int(input('enter a number to find its factorial: '))\n",
        "fact=1\n",
        "for i in range(1,num+1):\n",
        "  fact=fact*i\n",
        "print(f'Factorial of {num} is {fact}')\n",
        "#problem on profile pcture upload on facebook\n",
        "n=int(input('enter the number of photos: '))\n",
        "l=int(input('enter length of the side of square of photo '))\n",
        "for i in range(n):\n",
        "  w,h=map(int,input('enter width and height of photo separated by comma: ').split(','))\n",
        "  if(w<l or h<l):\n",
        "    print('UPLOAD ANOTHER')\n",
        "  else:\n",
        "    if(w==h):\n",
        "      print('ACCEPTED')\n",
        "    else:\n",
        "      print('CROP IT')\n"
      ],
      "metadata": {
        "id": "g2ZcDRqqKuYs",
        "colab": {
          "base_uri": "https://localhost:8080/"
        },
        "outputId": "42c77295-1469-436b-9717-af21acdb316e"
      },
      "execution_count": null,
      "outputs": [
        {
          "output_type": "stream",
          "name": "stdout",
          "text": [
            "enter a number to find its factorial: 6\n",
            "Factorial of 6 is 720\n",
            "enter the number of photos: 7\n",
            "enter length of the side of square of photo 8\n",
            "enter width and height of photo separated by comma: 5,6\n",
            "UPLOAD ANOTHER\n",
            "enter width and height of photo separated by comma: 7,8\n",
            "UPLOAD ANOTHER\n",
            "enter width and height of photo separated by comma: 8,8\n",
            "ACCEPTED\n",
            "enter width and height of photo separated by comma: 9,10\n",
            "CROP IT\n",
            "enter width and height of photo separated by comma: 11,9\n",
            "CROP IT\n",
            "enter width and height of photo separated by comma: 6,10\n",
            "UPLOAD ANOTHER\n",
            "enter width and height of photo separated by comma: 8,3\n",
            "UPLOAD ANOTHER\n"
          ]
        }
      ]
    },
    {
      "cell_type": "code",
      "source": [],
      "metadata": {
        "id": "IdOrNJFDBhkH"
      },
      "execution_count": null,
      "outputs": []
    }
  ]
}