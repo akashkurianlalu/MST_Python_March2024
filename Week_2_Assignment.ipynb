{
  "nbformat": 4,
  "nbformat_minor": 0,
  "metadata": {
    "colab": {
      "provenance": [],
      "authorship_tag": "ABX9TyOYJczguWnY9ObHAxccpFQo",
      "include_colab_link": true
    },
    "kernelspec": {
      "name": "python3",
      "display_name": "Python 3"
    },
    "language_info": {
      "name": "python"
    }
  },
  "cells": [
    {
      "cell_type": "markdown",
      "metadata": {
        "id": "view-in-github",
        "colab_type": "text"
      },
      "source": [
        "<a href=\"https://colab.research.google.com/github/akashkurianlalu/MST_Python_March2024/blob/main/Week_2_Assignment.ipynb\" target=\"_parent\"><img src=\"https://colab.research.google.com/assets/colab-badge.svg\" alt=\"Open In Colab\"/></a>"
      ]
    },
    {
      "cell_type": "markdown",
      "source": [
        "1. Write an interactive Python Program to implement following  “Guess Game”\n",
        "i.\n",
        "ii.\n",
        "iii.\n",
        "iv.\n",
        "v.\n",
        "Think of a number between 1 and 10 and store it in a variable called\n",
        "\"secretNumber\".\n",
        "Ask the user to enter a number between 1 and 10 and store it in a variable called\n",
        "\"guess\".\n",
        "Use control statements (if-else) to check if the guess is correct, higher, or lower\n",
        "than the secret number.\n",
        "Display appropriate messages to the user based on their guess:\n",
        "• If the guess is correct, display \"Congratulations! You guessed the number\n",
        "correctly!\"\n",
        "• If the guess is higher than the secret number, display \"Too high! Try\n",
        "again.\"\n",
        "• If the guess is lower than the secret number, display \"Too low! Try again.\"\n",
        "Allow the user to keep guessing until they guess the correct number."
      ],
      "metadata": {
        "id": "Q_lLMGTVaqGE"
      }
    },
    {
      "cell_type": "code",
      "execution_count": null,
      "metadata": {
        "id": "5_U4dK96aVaZ"
      },
      "outputs": [],
      "source": [
        "import random\n",
        "secretnumber=random.randint(1,10)\n",
        "while True:\n",
        "  guess=int(input('enter a number between 1 and 10 : '))\n",
        "  if(secretnumber==guess):\n",
        "    print('Congratulations! You guessed the number correctly!')\n",
        "    break\n",
        "  elif(secretnumber<guess):\n",
        "    print('Too high! Try again')\n",
        "  else:\n",
        "    print('Too low! Try again')"
      ]
    },
    {
      "cell_type": "markdown",
      "source": [
        "2. Write a program to find and print the Factorial of this number. The Factorial of a positive\n",
        "integer N refers to the product of all number in the range from 1 to N."
      ],
      "metadata": {
        "id": "JJunDCbQa6ey"
      }
    },
    {
      "cell_type": "code",
      "source": [
        "number = int(input(\"Enter a non-negative integer: \"))\n",
        "if number < 0:\n",
        "    print(\"Factorial is not defined for negative numbers.\")\n",
        "elif number == 0:\n",
        "    print(\"Factorial of 0 is 1\")\n",
        "else:\n",
        "    factorial = 1\n",
        "    for i in range(1, number + 1):\n",
        "        factorial *= i\n",
        "    print(\"The factorial of\", number, \"is\",factorial)"
      ],
      "metadata": {
        "id": "mN2-gH6mbBNK"
      },
      "execution_count": null,
      "outputs": []
    },
    {
      "cell_type": "markdown",
      "source": [
        "Roy wants to change his profile picture on Facebook. Now Facebook has some\n",
        "restriction over the dimension of picture that we can upload.\n",
        "Minimum dimension of the picture can be L x L, where L is the length of the side\n",
        "of square. Now Roy has N photos of various dimensions.\n",
        "Dimension of a photo is denoted as W x H\n",
        "where W - width of the photo and H - Height of the photo\n",
        "• When any photo is uploaded following events may occur:\n",
        "[1] If any of the width or height is less than L, user is prompted to upload another\n",
        "one. Print \"UPLOAD ANOTHER\" in this case.\n",
        "[2] If width and height, both are large enough and\n",
        "(a) if the photo is already square then it is accepted. Print \"ACCEPTED\" in this\n",
        "case.\n",
        "(b) else user is prompted to crop it. Print \"CROP IT\" in this case.\n",
        "Given L, N, W and H as input, write a program to print appropriate text as output."
      ],
      "metadata": {
        "id": "f8Ot_74mbRI_"
      }
    },
    {
      "cell_type": "code",
      "source": [
        "n=int(input('enter the number of photos: '))\n",
        "l=int(input('enter length of the side of square of photo '))\n",
        "for i in range(n):\n",
        "  w,h=map(int,input('enter width and height of photo separated by comma: ').split(','))\n",
        "  if(w<l or h<l):\n",
        "    print('UPLOAD ANOTHER')\n",
        "  else:\n",
        "    if(w==h):\n",
        "      print('ACCEPTED')\n",
        "    else:\n",
        "      print('CROP IT')"
      ],
      "metadata": {
        "id": "XWcah5VNba8e"
      },
      "execution_count": null,
      "outputs": []
    }
  ]
}