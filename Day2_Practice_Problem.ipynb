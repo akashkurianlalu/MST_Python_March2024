{
  "nbformat": 4,
  "nbformat_minor": 0,
  "metadata": {
    "colab": {
      "provenance": [],
      "authorship_tag": "ABX9TyP6umAfK+xpI+wBDSKkVD5O",
      "include_colab_link": true
    },
    "kernelspec": {
      "name": "python3",
      "display_name": "Python 3"
    },
    "language_info": {
      "name": "python"
    }
  },
  "cells": [
    {
      "cell_type": "markdown",
      "metadata": {
        "id": "view-in-github",
        "colab_type": "text"
      },
      "source": [
        "<a href=\"https://colab.research.google.com/github/akashkurianlalu/MST_Python_March2024/blob/main/Day2_Practice_Problem.ipynb\" target=\"_parent\"><img src=\"https://colab.research.google.com/assets/colab-badge.svg\" alt=\"Open In Colab\"/></a>"
      ]
    },
    {
      "cell_type": "markdown",
      "source": [
        "1. Write a program to find sum of all elements in a list of integers."
      ],
      "metadata": {
        "id": "nlADDa1O6AWJ"
      }
    },
    {
      "cell_type": "code",
      "execution_count": null,
      "metadata": {
        "colab": {
          "base_uri": "https://localhost:8080/"
        },
        "id": "RuYw407S3E1c",
        "outputId": "281d2477-3131-4df8-df1b-77b1b829abba"
      },
      "outputs": [
        {
          "output_type": "stream",
          "name": "stdout",
          "text": [
            "sum of all elements in the list is 208\n"
          ]
        }
      ],
      "source": [
        "l=[3,4,5,45,52,33,3,63]\n",
        "import math\n",
        "s=sum(l)\n",
        "print('sum of all elements in the list is',s)"
      ]
    },
    {
      "cell_type": "markdown",
      "source": [
        "2. Input a sentence as a string.  \n",
        "a) Print its length  \n",
        "b) Print the first half of string"
      ],
      "metadata": {
        "id": "4MI1p6bm6Ejm"
      }
    },
    {
      "cell_type": "code",
      "source": [
        "s='Python is a high-level, general-purpose programming language.'\n",
        "a=len(s)\n",
        "b=int((a/2))\n",
        "print('length of the string is',a)\n",
        "print(s[:b])"
      ],
      "metadata": {
        "colab": {
          "base_uri": "https://localhost:8080/"
        },
        "id": "bXEgj72v5Rj9",
        "outputId": "d3cd259c-5652-46f8-f044-7e73ad14337c"
      },
      "execution_count": null,
      "outputs": [
        {
          "output_type": "stream",
          "name": "stdout",
          "text": [
            "length of the string is 61\n",
            "Python is a high-level, genera\n"
          ]
        }
      ]
    },
    {
      "cell_type": "markdown",
      "source": [
        "3. Write a program to enter a tuple of integers as\n",
        "(78,45,32,19,82,77,40,39). Change the third value in the tuple to\n",
        "100"
      ],
      "metadata": {
        "id": "xwFspMhK8MlR"
      }
    },
    {
      "cell_type": "code",
      "source": [
        "t=(78,45,32,19,82,77,40,39)\n",
        "l=list(t)\n",
        "l[2]=100\n",
        "t=tuple(l)\n",
        "t"
      ],
      "metadata": {
        "colab": {
          "base_uri": "https://localhost:8080/"
        },
        "id": "d38F1Sq86n7g",
        "outputId": "7cda6705-62c3-4251-9e51-6c39f5aeb559"
      },
      "execution_count": 1,
      "outputs": [
        {
          "output_type": "execute_result",
          "data": {
            "text/plain": [
              "(78, 45, 100, 19, 82, 77, 40, 39)"
            ]
          },
          "metadata": {},
          "execution_count": 1
        }
      ]
    },
    {
      "cell_type": "markdown",
      "source": [
        "4. Consider a list listA=[19,32,10,55,31,32,94,29,10,65,77,40,40]\n",
        "(a)\n",
        "Delete the first occurrence of 32\n",
        "(b) Delete all occurrences of 40\n",
        "(c)\n",
        "Delete the value at index=5\n",
        "(d) Modify the value at index=9 as 300\n",
        "(e)\n",
        "Add 200 at index=2\n",
        "(f)\n",
        "Print the final list with its length, maximum value\n",
        "and sum of all elements"
      ],
      "metadata": {
        "id": "n9O6eas49OUd"
      }
    },
    {
      "cell_type": "markdown",
      "source": [
        "a"
      ],
      "metadata": {
        "id": "DZyqU1UR-vJ1"
      }
    },
    {
      "cell_type": "code",
      "source": [
        "lista=[19,32,10,55,31,32,94,29,10,65,77,40,40]\n",
        "lista.remove(32)\n",
        "lista"
      ],
      "metadata": {
        "colab": {
          "base_uri": "https://localhost:8080/"
        },
        "id": "VFLrtmx-8arK",
        "outputId": "bbb3a3ac-ec34-40cd-e055-5f5ac0579777"
      },
      "execution_count": null,
      "outputs": [
        {
          "output_type": "execute_result",
          "data": {
            "text/plain": [
              "[19, 10, 55, 31, 32, 94, 29, 10, 65, 77, 40, 40]"
            ]
          },
          "metadata": {},
          "execution_count": 18
        }
      ]
    },
    {
      "cell_type": "markdown",
      "source": [
        "b"
      ],
      "metadata": {
        "id": "cNQGT_9J-w28"
      }
    },
    {
      "cell_type": "code",
      "source": [
        "listb=[19,32,10,55,31,32,94,29,10,65,77,40,40]\n",
        "while 40 in listb:\n",
        "  listb.remove(40)\n",
        "listb"
      ],
      "metadata": {
        "colab": {
          "base_uri": "https://localhost:8080/"
        },
        "id": "THsaLhWX9dQK",
        "outputId": "c7b5688d-3a78-4cec-fa71-9ad455d7308b"
      },
      "execution_count": 16,
      "outputs": [
        {
          "output_type": "execute_result",
          "data": {
            "text/plain": [
              "[19, 32, 10, 55, 31, 32, 94, 29, 10, 65, 77]"
            ]
          },
          "metadata": {},
          "execution_count": 16
        }
      ]
    },
    {
      "cell_type": "markdown",
      "source": [
        "c"
      ],
      "metadata": {
        "id": "ap5ydtYUBDRc"
      }
    },
    {
      "cell_type": "code",
      "source": [
        "listc=[19,32,10,55,31,32,94,29,10,65,77,40,40]\n",
        "del listc[5]\n",
        "listc\n"
      ],
      "metadata": {
        "colab": {
          "base_uri": "https://localhost:8080/"
        },
        "id": "uwymdaa0_JFn",
        "outputId": "c372dca6-3cc4-4286-d22e-a71161c3dd26"
      },
      "execution_count": null,
      "outputs": [
        {
          "output_type": "execute_result",
          "data": {
            "text/plain": [
              "[19, 32, 10, 55, 31, 94, 29, 10, 65, 77, 40, 40]"
            ]
          },
          "metadata": {},
          "execution_count": 25
        }
      ]
    },
    {
      "cell_type": "markdown",
      "source": [
        "d"
      ],
      "metadata": {
        "id": "sfbnY0nBCQe-"
      }
    },
    {
      "cell_type": "code",
      "source": [
        "listd=[19,32,10,55,31,32,94,29,10,65,77,40,40]\n",
        "listd[9]=300\n",
        "listd"
      ],
      "metadata": {
        "colab": {
          "base_uri": "https://localhost:8080/"
        },
        "id": "hPlwPtn6BwoW",
        "outputId": "b8e442a5-958c-4131-c186-8b5193b0ad39"
      },
      "execution_count": null,
      "outputs": [
        {
          "output_type": "execute_result",
          "data": {
            "text/plain": [
              "[19, 32, 10, 55, 31, 32, 94, 29, 10, 300, 77, 40, 40]"
            ]
          },
          "metadata": {},
          "execution_count": 26
        }
      ]
    },
    {
      "cell_type": "markdown",
      "source": [
        "e"
      ],
      "metadata": {
        "id": "xLqKSynwCeYL"
      }
    },
    {
      "cell_type": "code",
      "source": [
        "liste=[19,32,10,55,31,32,94,29,10,65,77,40,40]\n",
        "liste[2]=liste[2]+200\n",
        "liste"
      ],
      "metadata": {
        "colab": {
          "base_uri": "https://localhost:8080/"
        },
        "id": "DgLfNqDcCaDV",
        "outputId": "931f0e10-183d-4dcb-f01e-8683af43087a"
      },
      "execution_count": null,
      "outputs": [
        {
          "output_type": "execute_result",
          "data": {
            "text/plain": [
              "[19, 32, 210, 55, 31, 32, 94, 29, 10, 65, 77, 40, 40]"
            ]
          },
          "metadata": {},
          "execution_count": 27
        }
      ]
    },
    {
      "cell_type": "markdown",
      "source": [
        "f"
      ],
      "metadata": {
        "id": "0XGDlbIwD0KS"
      }
    },
    {
      "cell_type": "code",
      "source": [
        "listf=[19,32,10,55,31,32,94,29,10,65,77,40,40]\n",
        "l=len(listf)\n",
        "m=max(listf)\n",
        "s=sum(listf)\n",
        "lf=[l,m,s]\n",
        "lf"
      ],
      "metadata": {
        "colab": {
          "base_uri": "https://localhost:8080/"
        },
        "id": "72mrJ5NgC7PQ",
        "outputId": "6b1010f4-3543-4a4d-f6cb-d5bf7f009eb2"
      },
      "execution_count": null,
      "outputs": [
        {
          "output_type": "execute_result",
          "data": {
            "text/plain": [
              "[13, 94, 534]"
            ]
          },
          "metadata": {},
          "execution_count": 29
        }
      ]
    },
    {
      "cell_type": "markdown",
      "source": [
        "5. Consider a string ”The day has been long”.\n",
        "(a)\n",
        "Delete the value at index =4\n",
        "(b) Print the string 4 times in a single line with space\n",
        "between each repetition\n",
        "(c)\n",
        "Print the string 3 times in a new line each time\n",
        "(d) Modify the string at index 7 as ’A’\n",
        "(e)\n",
        "Print the string from index 4 to 15\n",
        "(f)\n",
        "Print the final string with its length"
      ],
      "metadata": {
        "id": "gkYoOyG7Fs6B"
      }
    },
    {
      "cell_type": "markdown",
      "source": [
        "a"
      ],
      "metadata": {
        "id": "3Otit-drIMKZ"
      }
    },
    {
      "cell_type": "code",
      "source": [
        "s='The day has been long'\n",
        "new_string=s[:4]+s[5:]\n",
        "new_string"
      ],
      "metadata": {
        "colab": {
          "base_uri": "https://localhost:8080/",
          "height": 35
        },
        "id": "UntAy_TbFx7-",
        "outputId": "001ba23a-f642-4f65-b829-24f348644cc3"
      },
      "execution_count": 7,
      "outputs": [
        {
          "output_type": "execute_result",
          "data": {
            "text/plain": [
              "'The ay has been long'"
            ],
            "application/vnd.google.colaboratory.intrinsic+json": {
              "type": "string"
            }
          },
          "metadata": {},
          "execution_count": 7
        }
      ]
    },
    {
      "cell_type": "markdown",
      "source": [
        "b"
      ],
      "metadata": {
        "id": "FYKMkPWnINpI"
      }
    },
    {
      "cell_type": "code",
      "source": [
        "print('The day has been long '*4)"
      ],
      "metadata": {
        "colab": {
          "base_uri": "https://localhost:8080/"
        },
        "id": "HkolzxHCGZL7",
        "outputId": "aa98cee8-1bd7-407f-c9e8-765f9e80e55b"
      },
      "execution_count": null,
      "outputs": [
        {
          "output_type": "stream",
          "name": "stdout",
          "text": [
            "The day has been long The day has been long The day has been long The day has been long \n"
          ]
        }
      ]
    },
    {
      "cell_type": "markdown",
      "source": [
        "c"
      ],
      "metadata": {
        "id": "UeMmMjslIOey"
      }
    },
    {
      "cell_type": "code",
      "source": [
        "print('The day has been long\\n'*3)"
      ],
      "metadata": {
        "colab": {
          "base_uri": "https://localhost:8080/"
        },
        "id": "6DoiXhLVHIPP",
        "outputId": "e579a3e1-7edc-42ec-d03f-c61bca96076d"
      },
      "execution_count": null,
      "outputs": [
        {
          "output_type": "stream",
          "name": "stdout",
          "text": [
            "The day has been long\n",
            "The day has been long\n",
            "The day has been long\n",
            "\n"
          ]
        }
      ]
    },
    {
      "cell_type": "markdown",
      "source": [
        "d"
      ],
      "metadata": {
        "id": "mJYbxd6kIPZy"
      }
    },
    {
      "cell_type": "code",
      "source": [
        "s='The day has been long'\n",
        "new_string_d=s[:7]+ 'A' +s[8:]\n",
        "new_string_d"
      ],
      "metadata": {
        "id": "qNC46EtAIGC9",
        "colab": {
          "base_uri": "https://localhost:8080/",
          "height": 35
        },
        "outputId": "c11eece2-e900-44c0-9393-c6a135249c0d"
      },
      "execution_count": 12,
      "outputs": [
        {
          "output_type": "execute_result",
          "data": {
            "text/plain": [
              "'The dayAhas been long'"
            ],
            "application/vnd.google.colaboratory.intrinsic+json": {
              "type": "string"
            }
          },
          "metadata": {},
          "execution_count": 12
        }
      ]
    },
    {
      "cell_type": "markdown",
      "source": [
        "e"
      ],
      "metadata": {
        "id": "YWa_aTimI-4g"
      }
    },
    {
      "cell_type": "code",
      "source": [
        "s[4:16]"
      ],
      "metadata": {
        "colab": {
          "base_uri": "https://localhost:8080/",
          "height": 35
        },
        "id": "pEex422wJAgw",
        "outputId": "e796dd17-5051-4b26-acf6-506da5590377"
      },
      "execution_count": 17,
      "outputs": [
        {
          "output_type": "execute_result",
          "data": {
            "text/plain": [
              "'day has been'"
            ],
            "application/vnd.google.colaboratory.intrinsic+json": {
              "type": "string"
            }
          },
          "metadata": {},
          "execution_count": 17
        }
      ]
    },
    {
      "cell_type": "markdown",
      "source": [
        "f"
      ],
      "metadata": {
        "id": "2eNeo2zfJJQB"
      }
    },
    {
      "cell_type": "code",
      "source": [
        "l=len(s)\n",
        "print('length of the string \\\"The day has been long\\\" is',l)"
      ],
      "metadata": {
        "colab": {
          "base_uri": "https://localhost:8080/"
        },
        "id": "KQ6Voz9qJHBK",
        "outputId": "561d5d60-ce79-4ad9-aa02-41a7fbae4a1e"
      },
      "execution_count": null,
      "outputs": [
        {
          "output_type": "stream",
          "name": "stdout",
          "text": [
            "length of the string \"The day has been long\" is 21\n"
          ]
        }
      ]
    },
    {
      "cell_type": "code",
      "source": [],
      "metadata": {
        "id": "0Rbsxl-TJopp"
      },
      "execution_count": null,
      "outputs": []
    }
  ]
}